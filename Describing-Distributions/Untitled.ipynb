{
 "cells": [
  {
   "cell_type": "markdown",
   "id": "87f85c54",
   "metadata": {},
   "source": [
    "# Describing Distributions"
   ]
  },
  {
   "cell_type": "code",
   "execution_count": 1,
   "id": "b5ea61b2",
   "metadata": {},
   "outputs": [],
   "source": [
    "import pandas as pd\n",
    "import numpy as np\n",
    "import matplotlib.pyplot as plt\n",
    "import seaborn as sns\n",
    "from sklearn.preprocessing import StandardScaler\n",
    "from scipy import stats"
   ]
  },
  {
   "cell_type": "code",
   "execution_count": 2,
   "id": "d793df0c",
   "metadata": {
    "scrolled": true
   },
   "outputs": [
    {
     "name": "stdout",
     "output_type": "stream",
     "text": [
      "<class 'pandas.core.frame.DataFrame'>\n",
      "RangeIndex: 1000 entries, 0 to 999\n",
      "Data columns (total 32 columns):\n",
      " #   Column              Non-Null Count  Dtype  \n",
      "---  ------              --------------  -----  \n",
      " 0   State               995 non-null    object \n",
      " 1   Lat                 1000 non-null   float64\n",
      " 2   Lng                 1000 non-null   float64\n",
      " 3   Area                995 non-null    object \n",
      " 4   Children            993 non-null    float64\n",
      " 5   Age                 1000 non-null   int64  \n",
      " 6   Income              1000 non-null   float64\n",
      " 7   Marital             995 non-null    object \n",
      " 8   Gender              995 non-null    object \n",
      " 9   ReAdmis             1000 non-null   int64  \n",
      " 10  VitD_levels         1000 non-null   float64\n",
      " 11  Doc_visits          1000 non-null   int64  \n",
      " 12  Full_meals_eaten    1000 non-null   int64  \n",
      " 13  vitD_supp           1000 non-null   int64  \n",
      " 14  Soft_drink          1000 non-null   int64  \n",
      " 15  Initial_admin       995 non-null    object \n",
      " 16  HighBlood           1000 non-null   int64  \n",
      " 17  Stroke              1000 non-null   int64  \n",
      " 18  Complication_risk   995 non-null    object \n",
      " 19  Overweight          1000 non-null   int64  \n",
      " 20  Arthritis           994 non-null    float64\n",
      " 21  Diabetes            994 non-null    float64\n",
      " 22  Hyperlipidemia      998 non-null    float64\n",
      " 23  BackPain            992 non-null    float64\n",
      " 24  Anxiety             998 non-null    float64\n",
      " 25  Allergic_rhinitis   994 non-null    float64\n",
      " 26  Reflux_esophagitis  1000 non-null   int64  \n",
      " 27  Asthma              1000 non-null   int64  \n",
      " 28  Services            995 non-null    object \n",
      " 29  Initial_days        1000 non-null   float64\n",
      " 30  TotalCharge         1000 non-null   float64\n",
      " 31  Additional_charges  1000 non-null   float64\n",
      "dtypes: float64(14), int64(11), object(7)\n",
      "memory usage: 250.1+ KB\n"
     ]
    },
    {
     "data": {
      "text/html": [
       "<div>\n",
       "<style scoped>\n",
       "    .dataframe tbody tr th:only-of-type {\n",
       "        vertical-align: middle;\n",
       "    }\n",
       "\n",
       "    .dataframe tbody tr th {\n",
       "        vertical-align: top;\n",
       "    }\n",
       "\n",
       "    .dataframe thead th {\n",
       "        text-align: right;\n",
       "    }\n",
       "</style>\n",
       "<table border=\"1\" class=\"dataframe\">\n",
       "  <thead>\n",
       "    <tr style=\"text-align: right;\">\n",
       "      <th></th>\n",
       "      <th>State</th>\n",
       "      <th>Lat</th>\n",
       "      <th>Lng</th>\n",
       "      <th>Area</th>\n",
       "      <th>Children</th>\n",
       "      <th>Age</th>\n",
       "      <th>Income</th>\n",
       "      <th>Marital</th>\n",
       "      <th>Gender</th>\n",
       "      <th>ReAdmis</th>\n",
       "      <th>VitD_levels</th>\n",
       "      <th>Doc_visits</th>\n",
       "      <th>Full_meals_eaten</th>\n",
       "      <th>vitD_supp</th>\n",
       "      <th>Soft_drink</th>\n",
       "      <th>Initial_admin</th>\n",
       "      <th>HighBlood</th>\n",
       "      <th>Stroke</th>\n",
       "      <th>Complication_risk</th>\n",
       "      <th>Overweight</th>\n",
       "      <th>Arthritis</th>\n",
       "      <th>Diabetes</th>\n",
       "      <th>Hyperlipidemia</th>\n",
       "      <th>BackPain</th>\n",
       "      <th>Anxiety</th>\n",
       "      <th>Allergic_rhinitis</th>\n",
       "      <th>Reflux_esophagitis</th>\n",
       "      <th>Asthma</th>\n",
       "      <th>Services</th>\n",
       "      <th>Initial_days</th>\n",
       "      <th>TotalCharge</th>\n",
       "      <th>Additional_charges</th>\n",
       "    </tr>\n",
       "  </thead>\n",
       "  <tbody>\n",
       "    <tr>\n",
       "      <th>0</th>\n",
       "      <td>AL</td>\n",
       "      <td>34.34960</td>\n",
       "      <td>-86.72508</td>\n",
       "      <td>Suburban</td>\n",
       "      <td>1.0</td>\n",
       "      <td>53</td>\n",
       "      <td>86575.93</td>\n",
       "      <td>Divorced</td>\n",
       "      <td>Male</td>\n",
       "      <td>0</td>\n",
       "      <td>19.141466</td>\n",
       "      <td>6</td>\n",
       "      <td>0</td>\n",
       "      <td>0</td>\n",
       "      <td>0</td>\n",
       "      <td>Emergency Admission</td>\n",
       "      <td>1</td>\n",
       "      <td>0</td>\n",
       "      <td>Medium</td>\n",
       "      <td>0</td>\n",
       "      <td>1.0</td>\n",
       "      <td>1.0</td>\n",
       "      <td>0.0</td>\n",
       "      <td>1.0</td>\n",
       "      <td>1.0</td>\n",
       "      <td>1.0</td>\n",
       "      <td>0</td>\n",
       "      <td>1</td>\n",
       "      <td>Blood Work</td>\n",
       "      <td>10.585770</td>\n",
       "      <td>3726.702860</td>\n",
       "      <td>17939.403420</td>\n",
       "    </tr>\n",
       "    <tr>\n",
       "      <th>1</th>\n",
       "      <td>FL</td>\n",
       "      <td>30.84513</td>\n",
       "      <td>-85.22907</td>\n",
       "      <td>Urban</td>\n",
       "      <td>3.0</td>\n",
       "      <td>51</td>\n",
       "      <td>46805.99</td>\n",
       "      <td>Married</td>\n",
       "      <td>Female</td>\n",
       "      <td>0</td>\n",
       "      <td>18.940352</td>\n",
       "      <td>4</td>\n",
       "      <td>2</td>\n",
       "      <td>1</td>\n",
       "      <td>0</td>\n",
       "      <td>Emergency Admission</td>\n",
       "      <td>1</td>\n",
       "      <td>0</td>\n",
       "      <td>High</td>\n",
       "      <td>1</td>\n",
       "      <td>0.0</td>\n",
       "      <td>0.0</td>\n",
       "      <td>0.0</td>\n",
       "      <td>0.0</td>\n",
       "      <td>0.0</td>\n",
       "      <td>0.0</td>\n",
       "      <td>1</td>\n",
       "      <td>0</td>\n",
       "      <td>Intravenous</td>\n",
       "      <td>15.129562</td>\n",
       "      <td>4193.190458</td>\n",
       "      <td>17612.998120</td>\n",
       "    </tr>\n",
       "    <tr>\n",
       "      <th>2</th>\n",
       "      <td>SD</td>\n",
       "      <td>43.54321</td>\n",
       "      <td>-96.63772</td>\n",
       "      <td>Suburban</td>\n",
       "      <td>3.0</td>\n",
       "      <td>53</td>\n",
       "      <td>14370.14</td>\n",
       "      <td>Widowed</td>\n",
       "      <td>Female</td>\n",
       "      <td>0</td>\n",
       "      <td>18.057507</td>\n",
       "      <td>4</td>\n",
       "      <td>1</td>\n",
       "      <td>0</td>\n",
       "      <td>0</td>\n",
       "      <td>Elective Admission</td>\n",
       "      <td>1</td>\n",
       "      <td>0</td>\n",
       "      <td>Medium</td>\n",
       "      <td>1</td>\n",
       "      <td>0.0</td>\n",
       "      <td>1.0</td>\n",
       "      <td>0.0</td>\n",
       "      <td>0.0</td>\n",
       "      <td>0.0</td>\n",
       "      <td>0.0</td>\n",
       "      <td>0</td>\n",
       "      <td>0</td>\n",
       "      <td>Blood Work</td>\n",
       "      <td>4.772177</td>\n",
       "      <td>2434.234222</td>\n",
       "      <td>17505.192460</td>\n",
       "    </tr>\n",
       "    <tr>\n",
       "      <th>3</th>\n",
       "      <td>MN</td>\n",
       "      <td>43.89744</td>\n",
       "      <td>-93.51479</td>\n",
       "      <td>Suburban</td>\n",
       "      <td>0.0</td>\n",
       "      <td>78</td>\n",
       "      <td>39741.49</td>\n",
       "      <td>Married</td>\n",
       "      <td>Male</td>\n",
       "      <td>0</td>\n",
       "      <td>16.576858</td>\n",
       "      <td>4</td>\n",
       "      <td>1</td>\n",
       "      <td>0</td>\n",
       "      <td>0</td>\n",
       "      <td>Elective Admission</td>\n",
       "      <td>0</td>\n",
       "      <td>1</td>\n",
       "      <td>Medium</td>\n",
       "      <td>0</td>\n",
       "      <td>1.0</td>\n",
       "      <td>0.0</td>\n",
       "      <td>0.0</td>\n",
       "      <td>0.0</td>\n",
       "      <td>0.0</td>\n",
       "      <td>0.0</td>\n",
       "      <td>1</td>\n",
       "      <td>1</td>\n",
       "      <td>Blood Work</td>\n",
       "      <td>1.714879</td>\n",
       "      <td>2127.830423</td>\n",
       "      <td>12993.437350</td>\n",
       "    </tr>\n",
       "    <tr>\n",
       "      <th>4</th>\n",
       "      <td>VA</td>\n",
       "      <td>37.59894</td>\n",
       "      <td>-76.88958</td>\n",
       "      <td>Rural</td>\n",
       "      <td>1.0</td>\n",
       "      <td>22</td>\n",
       "      <td>1209.56</td>\n",
       "      <td>Widowed</td>\n",
       "      <td>Female</td>\n",
       "      <td>0</td>\n",
       "      <td>17.439069</td>\n",
       "      <td>5</td>\n",
       "      <td>0</td>\n",
       "      <td>2</td>\n",
       "      <td>1</td>\n",
       "      <td>Elective Admission</td>\n",
       "      <td>0</td>\n",
       "      <td>0</td>\n",
       "      <td>Low</td>\n",
       "      <td>0</td>\n",
       "      <td>0.0</td>\n",
       "      <td>NaN</td>\n",
       "      <td>1.0</td>\n",
       "      <td>0.0</td>\n",
       "      <td>0.0</td>\n",
       "      <td>1.0</td>\n",
       "      <td>0</td>\n",
       "      <td>0</td>\n",
       "      <td>CT Scan</td>\n",
       "      <td>1.254807</td>\n",
       "      <td>2113.073274</td>\n",
       "      <td>3716.525786</td>\n",
       "    </tr>\n",
       "  </tbody>\n",
       "</table>\n",
       "</div>"
      ],
      "text/plain": [
       "  State       Lat       Lng      Area  Children  Age    Income   Marital  \\\n",
       "0    AL  34.34960 -86.72508  Suburban       1.0   53  86575.93  Divorced   \n",
       "1    FL  30.84513 -85.22907     Urban       3.0   51  46805.99   Married   \n",
       "2    SD  43.54321 -96.63772  Suburban       3.0   53  14370.14   Widowed   \n",
       "3    MN  43.89744 -93.51479  Suburban       0.0   78  39741.49   Married   \n",
       "4    VA  37.59894 -76.88958     Rural       1.0   22   1209.56   Widowed   \n",
       "\n",
       "   Gender  ReAdmis  VitD_levels  Doc_visits  Full_meals_eaten  vitD_supp  \\\n",
       "0    Male        0    19.141466           6                 0          0   \n",
       "1  Female        0    18.940352           4                 2          1   \n",
       "2  Female        0    18.057507           4                 1          0   \n",
       "3    Male        0    16.576858           4                 1          0   \n",
       "4  Female        0    17.439069           5                 0          2   \n",
       "\n",
       "   Soft_drink        Initial_admin  HighBlood  Stroke Complication_risk  \\\n",
       "0           0  Emergency Admission          1       0            Medium   \n",
       "1           0  Emergency Admission          1       0              High   \n",
       "2           0   Elective Admission          1       0            Medium   \n",
       "3           0   Elective Admission          0       1            Medium   \n",
       "4           1   Elective Admission          0       0               Low   \n",
       "\n",
       "   Overweight  Arthritis  Diabetes  Hyperlipidemia  BackPain  Anxiety  \\\n",
       "0           0        1.0       1.0             0.0       1.0      1.0   \n",
       "1           1        0.0       0.0             0.0       0.0      0.0   \n",
       "2           1        0.0       1.0             0.0       0.0      0.0   \n",
       "3           0        1.0       0.0             0.0       0.0      0.0   \n",
       "4           0        0.0       NaN             1.0       0.0      0.0   \n",
       "\n",
       "   Allergic_rhinitis  Reflux_esophagitis  Asthma     Services  Initial_days  \\\n",
       "0                1.0                   0       1   Blood Work     10.585770   \n",
       "1                0.0                   1       0  Intravenous     15.129562   \n",
       "2                0.0                   0       0   Blood Work      4.772177   \n",
       "3                0.0                   1       1   Blood Work      1.714879   \n",
       "4                1.0                   0       0      CT Scan      1.254807   \n",
       "\n",
       "   TotalCharge  Additional_charges  \n",
       "0  3726.702860        17939.403420  \n",
       "1  4193.190458        17612.998120  \n",
       "2  2434.234222        17505.192460  \n",
       "3  2127.830423        12993.437350  \n",
       "4  2113.073274         3716.525786  "
      ]
     },
     "execution_count": 2,
     "metadata": {},
     "output_type": "execute_result"
    }
   ],
   "source": [
    "df = pd.read_csv(r\"C:\\Users\\nbeac\\OneDrive\\Documents\\GitHub\\Describing Distributions\\Data\\Medical Dataset.csv\")\n",
    "pd.set_option('display.max_columns', None)\n",
    "df.info()\n",
    "df.head()"
   ]
  },
  {
   "cell_type": "markdown",
   "id": "fd410f34",
   "metadata": {},
   "source": [
    "* The features to analyze: \n",
    "     * VitD_levels\n",
    "     * Doc_visits\n",
    "     * TotalCharge\n",
    "\n"
   ]
  },
  {
   "cell_type": "markdown",
   "id": "af4073ce",
   "metadata": {},
   "source": [
    "# For each feature listed:\n",
    "\n",
    "1. Plot a histogram with a kde (kernel density estimate)\n",
    "    * Add a line for the mean (red)\n",
    "    *Add a line for the median (green)\n",
    "    * Add a line for for +1 std from the mean (black)\n",
    "    * Add a line for the - 1 std from the mean (black)\n",
    "    * Highlight the range between +1 and =1 std (yellow)"
   ]
  },
  {
   "cell_type": "code",
   "execution_count": 22,
   "id": "39d2bac2",
   "metadata": {},
   "outputs": [
    {
     "name": "stdout",
     "output_type": "stream",
     "text": [
      "<class 'pandas.core.frame.DataFrame'>\n",
      "RangeIndex: 1000 entries, 0 to 999\n",
      "Data columns (total 3 columns):\n",
      " #   Column       Non-Null Count  Dtype  \n",
      "---  ------       --------------  -----  \n",
      " 0   VitD_levels  1000 non-null   float64\n",
      " 1   Doc_visits   1000 non-null   int64  \n",
      " 2   TotalCharge  1000 non-null   float64\n",
      "dtypes: float64(2), int64(1)\n",
      "memory usage: 23.6 KB\n",
      "\n",
      "\n"
     ]
    },
    {
     "data": {
      "text/html": [
       "<div>\n",
       "<style scoped>\n",
       "    .dataframe tbody tr th:only-of-type {\n",
       "        vertical-align: middle;\n",
       "    }\n",
       "\n",
       "    .dataframe tbody tr th {\n",
       "        vertical-align: top;\n",
       "    }\n",
       "\n",
       "    .dataframe thead th {\n",
       "        text-align: right;\n",
       "    }\n",
       "</style>\n",
       "<table border=\"1\" class=\"dataframe\">\n",
       "  <thead>\n",
       "    <tr style=\"text-align: right;\">\n",
       "      <th></th>\n",
       "      <th>VitD_levels</th>\n",
       "      <th>Doc_visits</th>\n",
       "      <th>TotalCharge</th>\n",
       "    </tr>\n",
       "  </thead>\n",
       "  <tbody>\n",
       "    <tr>\n",
       "      <th>0</th>\n",
       "      <td>19.141466</td>\n",
       "      <td>6</td>\n",
       "      <td>3726.702860</td>\n",
       "    </tr>\n",
       "    <tr>\n",
       "      <th>1</th>\n",
       "      <td>18.940352</td>\n",
       "      <td>4</td>\n",
       "      <td>4193.190458</td>\n",
       "    </tr>\n",
       "    <tr>\n",
       "      <th>2</th>\n",
       "      <td>18.057507</td>\n",
       "      <td>4</td>\n",
       "      <td>2434.234222</td>\n",
       "    </tr>\n",
       "    <tr>\n",
       "      <th>3</th>\n",
       "      <td>16.576858</td>\n",
       "      <td>4</td>\n",
       "      <td>2127.830423</td>\n",
       "    </tr>\n",
       "    <tr>\n",
       "      <th>4</th>\n",
       "      <td>17.439069</td>\n",
       "      <td>5</td>\n",
       "      <td>2113.073274</td>\n",
       "    </tr>\n",
       "  </tbody>\n",
       "</table>\n",
       "</div>"
      ],
      "text/plain": [
       "   VitD_levels  Doc_visits  TotalCharge\n",
       "0    19.141466           6  3726.702860\n",
       "1    18.940352           4  4193.190458\n",
       "2    18.057507           4  2434.234222\n",
       "3    16.576858           4  2127.830423\n",
       "4    17.439069           5  2113.073274"
      ]
     },
     "execution_count": 22,
     "metadata": {},
     "output_type": "execute_result"
    }
   ],
   "source": [
    "analyzed_columns = df[['VitD_levels', 'Doc_visits', 'TotalCharge']]\n",
    "\n",
    "analyzed_columns.info()\n",
    "print('\\n')\n",
    "analyzed_columns.head()"
   ]
  },
  {
   "cell_type": "markdown",
   "id": "0ddf42a0",
   "metadata": {},
   "source": [
    "## VitD_levels (Continuous Distribution)"
   ]
  },
  {
   "cell_type": "code",
   "execution_count": 49,
   "id": "2397ebc9",
   "metadata": {
    "scrolled": true
   },
   "outputs": [
    {
     "data": {
      "image/png": "[encoded data removed]",
      "text/plain": [
       "<Figure size 936x288 with 1 Axes>"
      ]
     },
     "metadata": {
      "needs_background": "light"
     },
     "output_type": "display_data"
    }
   ],
   "source": [
    "col = 'VitD_levels'\n",
    "feature = df[col]\n",
    "\n",
    "mean = feature.mean()\n",
    "median = feature.median()\n",
    "\n",
    "std = feature.std()\n",
    "plus_one_std = mean + std\n",
    "minus_one_std = median - std\n",
    "\n",
    "fig,ax = plt.subplots(figsize=(13,4))\n",
    "sns.histplot(feature, ax=ax, stat='probability',kde=True)\n",
    "\n",
    "ax.axvline(mean, color='red', label=f'Mean(+1) std = {plus_one_std:,.2f}')\n",
    "ax.axvline(plus_one_std, color='black')\n",
    "\n",
    "# I'm going to replace the color green with pink that way it can be eaiser to see. \n",
    "ax.axvline(median, ls='--', color='pink', label=f'Median(-1) std = {minus_one_std:,.2f}')\n",
    "ax.axvline(minus_one_std,color='black')\n",
    "\n",
    "ax.axvspan(plus_one_std, minus_one_std, color='yellow', zorder=0)\n",
    "ax.set_title(f\"{col}\")\n",
    "ax.legend();"
   ]
  },
  {
   "cell_type": "markdown",
   "id": "956d158d",
   "metadata": {},
   "source": [
    "* The above appears to be normal distribution which means there is no skew.\n",
    "* Values cluster in the middle which means we have a Mesokurtic Kurtosis"
   ]
  },
  {
   "cell_type": "code",
   "execution_count": 29,
   "id": "b923df1a",
   "metadata": {},
   "outputs": [
    {
     "data": {
      "text/plain": [
       "3.013147515833447"
      ]
     },
     "execution_count": 29,
     "metadata": {},
     "output_type": "execute_result"
    }
   ],
   "source": [
    "kurt = stats.kurtosis(df['VitD_levels'], fisher = False)\n",
    "kurt"
   ]
  },
  {
   "cell_type": "markdown",
   "id": "32a7752e",
   "metadata": {},
   "source": [
    "## Doc_visits (Discrete Distribution)"
   ]
  },
  {
   "cell_type": "code",
   "execution_count": 53,
   "id": "e2d31da0",
   "metadata": {
    "scrolled": true
   },
   "outputs": [
    {
     "data": {
      "image/png": "[encoded data removed]",
      "text/plain": [
       "<Figure size 936x360 with 1 Axes>"
      ]
     },
     "metadata": {
      "needs_background": "light"
     },
     "output_type": "display_data"
    }
   ],
   "source": [
    "col = 'Doc_visits'\n",
    "feature = df['Doc_visits']\n",
    "\n",
    "mean = feature.mean()\n",
    "median = feature.median()\n",
    "\n",
    "std = feature.std()\n",
    "plus_one_std = mean + std\n",
    "minus_one_std = median - std\n",
    "\n",
    "fig,ax = plt.subplots(figsize=(13,5))\n",
    "sns.histplot(feature, ax=ax, discrete=True, stat='density',kde=True)\n",
    "\n",
    "ax.axvline(mean, color='green', label=f'Mean(+1) std = {plus_one_std:,.2f}')\n",
    "ax.axvline(plus_one_std, color='black')\n",
    "\n",
    "ax.axvline(median, ls='--', color='purple', label=f'Median(-1) std = {minus_one_std:,.2f}')\n",
    "ax.axvline(minus_one_std,color='black')\n",
    "\n",
    "ax.axvspan(plus_one_std, minus_one_std, color='yellow', zorder=0)\n",
    "\n",
    "ax.set_title(f\"{col}\")\n",
    "ax.legend();"
   ]
  },
  {
   "cell_type": "markdown",
   "id": "a9ab6161",
   "metadata": {},
   "source": [
    "* The above is a Leptokurtic Kurtosis since the values cluster at the 'peak' of the distribution. \n",
    "* Positive Distrbution because of the pointynes and the skew showing that the median is smaller than the mean."
   ]
  },
  {
   "cell_type": "code",
   "execution_count": 56,
   "id": "9f2f8d6d",
   "metadata": {},
   "outputs": [
    {
     "data": {
      "text/plain": [
       "2.9919958083381206"
      ]
     },
     "execution_count": 56,
     "metadata": {},
     "output_type": "execute_result"
    }
   ],
   "source": [
    "kurt = stats.kurtosis(df['Doc_visits'], fisher = False)\n",
    "kurt"
   ]
  },
  {
   "cell_type": "markdown",
   "id": "da293b4d",
   "metadata": {},
   "source": [
    "## TotalCharge (Continuous Distribution)"
   ]
  },
  {
   "cell_type": "code",
   "execution_count": 58,
   "id": "e64b816f",
   "metadata": {
    "scrolled": false
   },
   "outputs": [
    {
     "data": {
      "image/png": "[encoded data removed]",
      "text/plain": [
       "<Figure size 1080x360 with 1 Axes>"
      ]
     },
     "metadata": {
      "needs_background": "light"
     },
     "output_type": "display_data"
    }
   ],
   "source": [
    "total_col = 'TotalCharge'\n",
    "feature = df[total_col]\n",
    "\n",
    "mean = feature.mean()\n",
    "median = feature.median()\n",
    "\n",
    "std = feature.std()\n",
    "plus_one_std = mean + std\n",
    "minus_one_std = median - std\n",
    "\n",
    "fig,ax = plt.subplots(figsize=(15,5))\n",
    "sns.histplot(feature, ax=ax, stat='probability',kde=True)\n",
    "\n",
    "ax.axvline(mean, color='black', label=f'Mean(+1) std = {plus_one_std:,.2f}')\n",
    "ax.axvline(plus_one_std, color='black')\n",
    "\n",
    "ax.axvline(median, ls='--', color='green', label=f'Median(-1) std = {minus_one_std:,.2f}')\n",
    "ax.axvline(minus_one_std,color='black')\n",
    "\n",
    "\n",
    "ax.axvspan(plus_one_std, minus_one_std, color = 'yellow', zorder = 0)\n",
    "\n",
    "ax.set_title(f\"{total_col}\")\n",
    "ax.legend();"
   ]
  },
  {
   "cell_type": "markdown",
   "id": "3ce324d9",
   "metadata": {},
   "source": [
    "* Leptokurtic Kurtosis with the skew heading positive since the median is smaller than the mean and the right"
   ]
  },
  {
   "cell_type": "code",
   "execution_count": 59,
   "id": "1934da64",
   "metadata": {},
   "outputs": [
    {
     "data": {
      "text/plain": [
       "3.2650077463439384"
      ]
     },
     "execution_count": 59,
     "metadata": {},
     "output_type": "execute_result"
    }
   ],
   "source": [
    "kurt = stats.kurtosis(df['TotalCharge'], fisher = False)\n",
    "kurt"
   ]
  }
 ],
 "metadata": {
  "kernelspec": {
   "display_name": "Python (dojo-env)",
   "language": "python",
   "name": "dojo-env"
  },
  "language_info": {
   "codemirror_mode": {
    "name": "ipython",
    "version": 3
   },
   "file_extension": ".py",
   "mimetype": "text/x-python",
   "name": "python",
   "nbconvert_exporter": "python",
   "pygments_lexer": "ipython3",
   "version": "3.8.13"
  },
  "toc": {
   "base_numbering": 1,
   "nav_menu": {},
   "number_sections": false,
   "sideBar": true,
   "skip_h1_title": false,
   "title_cell": "Table of Contents",
   "title_sidebar": "Contents",
   "toc_cell": false,
   "toc_position": {},
   "toc_section_display": true,
   "toc_window_display": false
  }
 },
 "nbformat": 4,
 "nbformat_minor": 5
}
